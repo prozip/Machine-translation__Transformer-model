{
 "cells": [
  {
   "cell_type": "code",
   "execution_count": 2,
   "metadata": {},
   "outputs": [],
   "source": [
    "import tensorflow as tf\n",
    "import tensorflow_text as text\n",
    "from tensorflow_text.tools.wordpiece_vocab import bert_vocab_from_dataset as bert_vocab"
   ]
  },
  {
   "cell_type": "code",
   "execution_count": 18,
   "metadata": {},
   "outputs": [],
   "source": [
    "file_name = 'en_to_vi2.txt'\n",
    "dataset = tf.data.TextLineDataset(file_name)\n",
    "\n",
    "def do_map(ds):\n",
    "  splited = tf.strings.split(ds,sep='\\t')\n",
    "  inp = tf.squeeze(tf.slice(splited, [0], [1]))\n",
    "  targ = tf.squeeze(tf.slice(splited, [1], [1]))\n",
    "  return (inp, targ)\n",
    "\n",
    "examples = dataset.map(lambda ds:do_map(ds))"
   ]
  },
  {
   "cell_type": "code",
   "execution_count": 20,
   "metadata": {},
   "outputs": [],
   "source": [
    "train_examples = examples\n",
    "train_en = train_examples.map(lambda pt, en: en)\n",
    "train_pt = train_examples.map(lambda pt, en: pt)"
   ]
  },
  {
   "cell_type": "code",
   "execution_count": 26,
   "metadata": {},
   "outputs": [
    {
     "name": "stdout",
     "output_type": "stream",
     "text": [
      "b'It begins with a countdown.' Câu chuyện bắt đầu với buổi lễ đếm ngược.\n",
      "b'On August 14th, 1947, a woman in Bombay goes into labor as the clock ticks towards midnight.' Ngày 14, tháng 8, năm 1947, gần nửa đêm, ở Bombay, có một phụ nữ sắp lâm bồn.\n",
      "b'Across India, people hold their breath for the declaration of independence after nearly two centuries of British occupation and rule.' Cùng lúc, trên khắp đất Ấn, người ta nín thở chờ đợi tuyên ngôn độc lập sau gần hai thập kỷ là thuộc địa của Anh.\n",
      "b'And at the stroke of midnight, a squirming infant and two new nations are born in perfect synchronicity.' Khi đồng hồ điểm thời khắc nửa đêm, một đứa trẻ và hai quốc gia mới, cùng một lúc, ra đời.\n",
      "b'These events form the foundation of \"Midnight\\'s Children,\" a dazzling novel by the British - Indian author Salman Rushdie.' Những sự kiện này là nền móng tạo nên \"Những đứa con của nửa đêm,\" một tiểu thuyết nổi tiếng của nhà văn Anh gốc Ấn Salman Rushdie.\n",
      "b\"The baby who is the exact same age as the nation is Saleem Sinai, the novel's protagonist.\" Đứa trẻ cùng tuổi với đất nước đó là Saleem Sinai, nhân vật trung tâm của cuốn tiểu thuyết.\n",
      "b'His narrative stretches over 30 years of his life, jumping backwards and forwards in time to speculate on family secrets and deep - seated mysteries.' Cuốn sách là lời tự thuật của Saleem về 30 năm cuộc đời với mạch thời gian khác nhau dần hé lộ những bí mật trong gia đình và những huyền bí cổ xưa.\n",
      "b\"These include the greatest enigma of all: Saleem has magic powers, and they're somehow related to the time of his birth.\" Tất cả tạo ra điều bí ẩn vĩ đại nhất: Saleem sở hữu năng lực siêu nhiên, và, bằng cách nào đó, liên quan đến thời điểm cậu ra đời.\n",
      "b\"And he's not the only one.\" Saleem không phải người duy nhất.\n",
      "b\"All children born in and around the stroke of midnight are imbued with extraordinary powers; like Parvati the Witch, a spectacular conjurer; and Saleem's nemesis Shiva, a gifted warrior.\" Mọi đứa trẻ sinh ra trong khoảng nửa đêm đều sở hữu năng lực đặc biệt, như Parvati, Phù thuỷ quyền năng; một người bạn đồng hành tuyệt vời hay Shiva, kẻ thù của Saleem, một chiến binh thiên tài.\n",
      "b'With his powers of telepathy, Saleem forges connections with a vast network of the children of midnight- including a figure who can step through time and mirrors, a child who changes their gender when immersed in water, and multilingual conjoined twins.' Với khả năng thần giao cách cảm, Saleem kết nối những đứa trẻ của nửa đêm - gồm một đứa trẻ có thể vượt không gian và thời gian, một đứa trẻ có thể chuyển đổi giới tính khi đắm mình trong nước, và một cặp song sinh đa ngôn ngữ bị dính liền với nhau.\n",
      "b'Saleem acts as a delightful guide to magical happenings and historical context alike.' Saleem đóng vai trò là người dẫn lối đến những sự kiện phép thuật cũng như bối cảnh lịch sử.\n",
      "b'Although his birthday is a day of celebration, it also marks a turbulent period in Indian history.' Dù sinh nhật cậu là một ngày vui, nó cũng đánh dấu một giai đoạn hỗn loạn trong lịch sử Ấn Độ.\n",
      "b'In 1948, the leader of the Indian independence movement, Mahatma Gandhi, was assassinated.' Năm 1948, người lãnh đạo cuộc kháng chiến giành độc lập của Ấn Độ, Mahatma Gandhi, bị ám sát.\n",
      "b'Independence also coincided with Partition, which divided British - controlled India into the two nations of India and Pakistan.' Độc lập đồng thời tạo ra sự chia cắt, khi Ấn Độ thuộc địa của Anh bị chia thành hai quốc gia có chủ quyền là Ấn Độ và Pakistan.\n",
      "b'This contributed to the outbreak of the Indo - Pakistani Wars in 1965 and 1971.' Điều này dẫn tới chiến tranh Ấn Độ - Pakistan năm 1965 và 1971.\n",
      "b'Saleem touches on all this and more, tracing the establishment of Bangladesh in 1971 and the emergency rule of Indira Gandhi.' Saleem có mặt trong tất cả những sự kiện này và hơn nữa, còn theo dấu sự thành lập của Bangladesh năm 1971 và sự lãnh đạo của Indira Gandhi tại Ấn Độ.\n",
      "b'This vast historical frame is one reason why \"Midnight\\'s Children\" is considered one of the most illuminating works of postcolonial literature ever written.' Bối cảnh lịch sử rộng lớn này là một trong những lí do tại sao \"Những đứa con của nửa đêm\" được coi là một trong những tiểu thuyết hậu thuộc địa đặc sắc nhất mọi thời đại.\n",
      "b'This genre typically addresses the experience of people living in colonized and formerly colonized countries, and explores the fallout through themes like revolution, migration, and identity.' Những tác phẩm thuộc thể loại này cho ta cái nhìn trực quan về cuộc sống con người ở thuộc địa cũng như những nước từng là thuộc địa; cùng với đó, hiểu thêm về sự sụp đổ qua nhiều yếu tố như cách mạng, di dân và bản sắc.\n",
      "b'Rushdie, who like Saleem was born in 1947, was educated in India and Britain, and is renowned for his cross - continental histories, political commentary, and magical realism.' Rushdie, giống như Saleem, sinh năm 1947, học tại Ấn Độ và Anh quốc, nổi tiếng nhờ vào tiểu sử xuyên lục địa, những bình luận chính trị và chủ nghĩa hiện thực huyền ảo.\n",
      "b'He enriches \"Midnight\\'s Children\" with a plethora of Indian and Pakistani cultural references, from family traditions to food, religion and folktales.' \"Những đứa con của nửa đêm\" mang đậm màu sắc văn hoá của Ấn Độ và Pakistan, từ truyền thống gia đình, ẩm thực, đến tôn giáo hay văn hoá dân gian.\n",
      "b'Scribbling by night under the watchful eyes of his lover Padma, Saleem\\'s frame narrative echoes that of \"1001 Nights,\" where a woman named Scheherazade tells her king a series of stories to keep herself alive.' Được viết nên mỗi đêm dưới sự chứng kiến của người tình là Padma, câu chuyện qua lời kể của Saleem mang âm hưởng nàng Scheherazade trong \"Nghìn lẻ một đêm\", kể chuyện cho nhà vua hằng đêm để giữ mạng sống của mình.\n",
      "b'And as Saleem sees it, 1001 is \"the number of night, of magic, of alternative realities.\"' Và theo cách Saleem nhìn nhận, 1001 là \"con số của đêm, của ma thuật, và hiện thực huyền ảo.\"\n",
      "b'Over the course of the novel, Rushdie dazzles us with multiple versions of reality.' Xuyên suốt tiểu thuyết, Rushdie khiến người đọc choáng ngợp bởi những phiên bản khác nhau của hiện thực.\n",
      "b'Sometimes, this is like reading a rollercoaster.' Đôi khi, việc đọc cuốn sách này cũng như đi tàu lượn vậy.\n",
      "b'Saleem narrates: \"Who what am I?' Saleem tự thuật: \"Tôi là ai? là gì?\n",
      "b'My answer: I am everyone everything whose being - in - the - world affected was affected by mine.' Trả lời: Tôi là tổng hợp mọi thứ diễn ra, là tất cả mọi người, mọi vật mà sự tồn tại tác động đến tôi và bị tôi tác động.\n",
      "b\"I am anything that happens after I've gone which would not have happened if I had not come.\" Tôi là bất cứ chuyện gì xảy ra khi tôi ra đi nhưng sẽ không xảy ra nếu tôi không xuất hiện.\n",
      "b\"Nor am I particularly exceptional in this matter; each 'I,' every one of the now - six - hundred - million - plus of us, contains a similar multitude.\" Tôi cũng không phải là ngoại lệ cá biệt trong vấn đề này; mỗi một \"tôi\", mỗi cá nhân trong số hơn - sáu - trăm - triệu - người chúng ta, đều chứa đựng những đa dạng tương tự.\n",
      "b'I repeat for the last time: to understand me, you\\'ll have to swallow a world. \"' Tôi nhắc lại lần cuối: Để hiểu tôi quý vị phải nuốt cả thế giới. \"\n",
      "b\"Saleem's narrative often has a breathless quality - and even as Rushdie depicts the cosmological consequences of a life, he questions the idea that we can ever condense history into a single narrative.\" Những lời tự thuật của Saleem thường mang ý nghĩa nghẹt thở - và ngay cả khi Rushdie mô tả hệ quả của một cuộc đời đối với cả vũ trụ, ông vẫn tự hỏi liệu ta có thể cô đọng lịch sử qua một lời kể.\n",
      "b'His mind - bending plot and shapeshifting characters have garnered continuing fascination and praise.' Cốt truyện đáng kinh ngạc cùng nhân vật linh hoạt của Rushdie đã không ngừng mê hoặc và được độc giả hết lời khen ngợi.\n",
      "b'Not only did \"Midnight\\'s Children\" win the prestigious Man Booker Prize in its year of publication, but in a 2008 competition that pitted all 39 winners against each other, it was named the best of all the winners.' \"Những đứa con của nửa đêm\" không chỉ nhận được giải thưởng Man Booker danh giá trong cùng năm xuất bản, mà còn vượt qua 39 tác phẩm chiến thắng khác để giành danh hiệu \"tác phẩm chiến thắng xuất sắc nhất\" vào năm 2008.\n",
      "b\"In a masterpiece of epic proportions, Rushdie reveals that there are no singular truths- rather, it's wiser to believe in several versions of reality at once, hold many lives in the palms of our hands, and experience multiple moments in a single stroke of the clock.\" Trong kiệt tác mang bối cảnh lịch sử, Rushdie tiết lộ rằng không có sự thật nào là duy nhất và sẽ là khôn ngoan hơn nếu tin vào nhiều góc nhìn của hiện thực, nắm giữ nhiều sinh mệnh trong lòng bàn tay và trải nghiệm nhiều khoảnh khắc trong một thời khắc của hiện tại.\n",
      "b'When I was born, there was really only one book about how to raise your children, and it was written by Dr. Spock.' Khi tôi mới sinh ra chỉ có một quyển sách về cách nuôi dạy con cái, là cuốn của Dr. Spock\n",
      "b'(Laughter) Thank you for indulging me.' (Cười) Cảm ơn đã nuông chiều tôi.\n",
      "b'I have always wanted to do that.' Tôi đã luôn mong được làm điều đó.\n",
      "b'No, it was Benjamin Spock, and his book was called \"The Common Sense Book of Baby And Child Care.\"' Không, đó là Benjamin Spock, có nhan đề \"Về chăm sóc trẻ sơ sinh và trẻ nhỏ\".\n",
      "b'It sold almost 50 million copies by the time he died.' Lúc ông qua đời, sách đã bán được gần 50 triệu bản.\n",
      "b'Today, I, as the mother of a six - year - old, walk into Barnes and Noble, and see this.' Tôi là người mẹ có con lên 6 tuổi, bước vào cửa hàng Barnes và Noble, và thấy cái này.\n",
      "b'And it is amazing the variety that one finds on those shelves.' Và thật kinh ngạc về sự đa dạng bạn thấy trên những giá sách đó.\n",
      "b'There are guides to raising an eco-friendly kid, a gluten - free kid, a disease - proof kid, which, if you ask me, is a little bit creepy.' Có sách hướng dẫn nuôi dạy trẻ thân thiện với môi trường, sách dạy trẻ không mắc chứng cuồng ăn, giúp trẻ chống lại bệnh tật, cả loại sách khiến tôi hơi choáng.\n",
      "b'There are guides to raising a bilingual kid even if you only speak one language at home.' Có sách hướng dẫn dạy trẻ nói hai thứ tiếng, ngay cả khi bạn chỉ nói một thứ tiếng ở nhà.\n",
      "b'There are guides to raising a financially savvy kid and a science - minded kid and a kid who is a whiz at yoga.' Có sách hướng dẫn trẻ hiểu biết về tài chính, có đầu óc khoa học, hay dạy trẻ thành thần đồng yoga.\n",
      "b'Short of teaching your toddler how to defuse a nuclear bomb, there is pretty much a guide to everything.' Chỉ thiếu mỗi sách dạy thằng bé tháo ngòi bom nguyên tử, Vô vàn dạy dỗ cho mọi thứ trên đời.\n",
      "b'All of these books are well - intentioned.' Tất cả những cuốn đó đều có ý định tốt.\n",
      "b'I am sure that many of them are great.' Chắc trong số đó, có nhiều cuốn hay.\n",
      "b'But taken together, I am sorry, I do not see help when I look at that shelf.' Nhưng gộp lại, thì rất tiếc, tôi không thấy lợi ích gì khi nhìn vào giá sách đó.\n",
      "b'I see anxiety.' Tôi thấy sự lo lắng.\n",
      "b'I see a giant candy - colored monument to our collective panic, and it makes me want to know, why is it that raising our children is associated with so much anguish and so much confusion?' Tôi thấy một tượng đài màu kẹo khổng lồ cho nỗi sợ hãi hoang mang của chúng ta, và nó làm tôi muốn biết, tại sao việc nuôi dạy con cái của chúng ta lại đưa tới vô số nỗi khổ và nhiều bối rối đến vậy?\n",
      "b'Why is it that we are at sixes and sevens about the one thing human beings have been doing successfully for millennia, long before parenting message boards and peer-reviewed studies came along?' Sao chúng ta vẫn ngây ngô như đứa trẻ lên năm lên ba trên những vấn đề nhân loại đã thành công hàng thiên niên kỷ, từ lâu rồi, trước khi có ban phụ huynh và những trao đổi ý kiến nghiên cứu?\n",
      "b'Why is it that so many mothers and fathers experience parenthood as a kind of crisis?' Tại sao rất nhiều bậc làm cha làm mẹ thấy việc làm cha mẹ là một khủng hoảng?\n",
      "b\"Crisis might seem like a strong word, but there is data suggesting it probably is n't.\" Khủng hoảng có vẻ là một từ nặng, nhưng có số liệu cho rằng nó không hề nặng.\n",
      "b'There was, in fact, a paper of just this very name, \"Parenthood as Crisis,\" published in 1957, and in the 50 - plus years since, there has been plenty of scholarship documenting a pretty clear pattern of parental anguish.' Có công trình nghiên cứu có tên: \"Cơn khủng hoảng làm Cha Mẹ\" xuất bản năm 1957, từ những năm 50 trở đi, đã có khá nhiều nghiên cứu viết khá rõ ràng về nỗi khổ của các bậc cha mẹ.\n",
      "b'Their marital satisfaction is lower.' Sự hài lòng trong hôn nhân của họ thấp hơn.\n",
      "b'There have been a number of studies looking at how parents feel when they are spending time with their kids, and the answer often is, not so great.' Có rất nhiều bài nghiên cứu về cảm giác của cha mẹ khi họ dành thời gian cho con cái mình, và câu trả lời thường là cũng không hẳn là tuyệt lắm.\n",
      "b'Last year, I spoke with a researcher named Matthew Killingsworth who is doing a very, very imaginative project that tracks people\\'s happiness, and here is what he told me he found: \"Interacting with your friends is better than interacting with your spouse, which is better than interacting with other relatives, which is better than interacting with acquaintances, which is better than interacting with parents, which is better than interacting with children.' Năm ngoái, tôi gặp nhà nghiên cứu Matthew Killingsworth anh đang làm một dự án giàu tưởng tượng là lần theo hạnh phúc của con người, và anh ấy nói với tôi là anh ấy nhận ra rằng: \"Tương tác với bạn bè tốt hơn với người bạn đời, với bạn đời tốt hơn với họ hàng, với họ hàng tốt hơn với người quen, với người quen tốt hơn với cha mẹ, với cha mẹ tốt hơn với con cái.\n",
      "b'Who are on par with strangers. \"' Vì con cái ngang với người lạ. \"\n",
      "b'I have been looking at what underlies these data for three years, and children are not the problem.' Nhưng vấn đề là, tôi vẫn đang nhìn vào những gì ẩn dưới\n",
      "b\"Specifically, I do n't think we know what parenting is supposed to be.\" Nói chính xác, tôi e rằng chúng ta không biết làm cha mẹ nghĩa là gì.\n",
      "b'Parent, as a verb, only entered common usage in 1970.' Cha mẹ, với tư cách là một động từ chỉ được sử dụng rộng rãi vào năm 1970.\n",
      "b'Our roles as mothers and fathers have changed.' Vai trò làm cha, làm mẹ của chúng ta đã thay đổi.\n",
      "b'The roles of our children have changed.' Vai trò của con cái cũng đã thay đổi.\n",
      "b\"We are all now furiously improvising our way through a situation for which there is no script, and if you're an amazing jazz musician, then improv is great, but for the rest of us, it can kind of feel like a crisis.\" Hết thảy chúng ta đều ứng biến một cách dữ dội qua hoàn cảnh cái chẳng có trong sách vở, và nếu bạn là một nhạc sĩ jazz tài ba, thì ngẫu hứng thật là tuyệt, nhưng với những người còn lại, có thể nó là một cuộc khủng hoảng.\n",
      "b'So how did we get here?' Làm thế nào chúng ta đến được đây?\n",
      "b'How is it that we are all now navigating a child - rearing universe without any norms to guide us?' Sẽ thế nào nếu tất cả chúng ta đều tìm đường trong thế giới nuôi dạy trẻ mà không có quy tắc nào dẫn dắt?\n",
      "b'Well, for starters, there has been a major historical change.' Vâng, cho những người bắt đầu, đã có một thay đổi lớn có tính lịch sử.\n",
      "b'Until fairly recently, kids worked, on our farms primarily, but also in factories, mills, mines.' Cách đây cũng chưa lâu, trẻ em phải làm việc, trước hết trong nông trại, rồi trong nhà máy, hầm mỏ.\n",
      "b'Kids were considered economic assets.' Trẻ em được xem là tài sản kinh tế.\n",
      "b'Sometime during the Progressive Era, we put an end to this arrangement.' Đến một lúc nào đó trong Kỷ nguyên Tiến bộ, chúng ta đặt dấu chấm hết cho tình trạng này.\n",
      "b\"We recognized kids had rights, we banned child labor, we focused on education instead, and school became a child's new work.\" Chúng ta nhận ra trẻ em có quyền, chúng ta cấm lao động trẻ em, thay vào đó, ta tập trung vào giáo dục, và trường học thành công việc mới mẻ cho đứa trẻ.\n",
      "b'And thank God it did.' Tạ ơn Chúa vì điều đó.\n",
      "b\"But that only made a parent's role more confusing in a way.\" Nhưng điều đó chỉ làm cho vai trò của cha mẹ bối rối hơn theo một cách.\n",
      "b'The old arrangement might not have been particularly ethical, but it was reciprocal.' Những sự sắp xếp lúc trước có lẽ không thuộc vấn đề đạo đức, mà có đi có lại.\n",
      "b'We provided food, clothing, shelter, and moral instruction to our kids, and they in return provided income.' Chúng ta cung cấp thức ăn, áo quần, nơi ở, và những chỉ dẫn về đạo đức cho bọn trẻ, và ngược lại chúng mang về thu nhập.\n",
      "b'Once kids stopped working, the economics of parenting changed.' Một khi những đứa trẻ ngưng làm việc, tài chính của việc nuôi con thay đổi.\n",
      "b'Kids became, in the words of one brilliant if totally ruthless sociologist, \"economically worthless but emotionally priceless.\"' Như lời của một nhà xã hội học xuất sắc đồng thời cực kỳ tàn nhẫn đã nói rằng \"Bọn trẻ trở nên không có giá trị về kinh tế nhưng vô giá về mặt tình cảm.\"\n",
      "b'Rather than them working for us, we began to work for them, because within only a matter of decades it became clear: if we wanted our kids to succeed, school was not enough.' Thay vì trẻ làm việc cho chúng ta, chúng ta bắt đầu làm việc cho chúng, bởi vì trong vòng chỉ vài thập kỷ tình hình đã trở nên rõ ràng: Nếu chúng ta muốn con mình thành công, trường học là không đủ.\n",
      "b\"Today, extracurricular activities are a kid's new work, but that's work for us too, because we are the ones driving them to soccer practice.\" Ngày nay, hoạt động ngoại khoá là công việc mới của trẻ nhưng nó cũng là công việc của chúng ta, vì chúng ta ốp con ra sân đá bóng.\n",
      "b\"Massive piles of homework are a kid's new work, but that's also work for us, because we have to check it.\" Lượng bài tập khổng lồ là việc mới của trẻ, nhưng nó cũng là công việc của chúng ta, bởi vì chúng ta phải kiếm tra.\n",
      "b'She said, almost casually, \"Homework is the new dinner.\"' \"Bài tập về nhà của con là bữa tối mới\" Tầng lớp trung lưu bỏ tất cả thời gian\n",
      "b'Mothers now spend more time with their children than they did in 1965, when most women were not even in the workforce.' Hầu hết các bà mẹ dành nhiều thời gian hơn cho con so với năm 1965, khi đó đa số phụ nữ không ở trong lực lượng lao động.\n",
      "b'It would probably be easier for parents to do their new roles if they knew what they were preparing their kids for.' Có thể dễ hơn cho cha mẹ thực hiện vai trò mới của mình nếu họ biết phải chuẩn bị cái gì cho con cái.\n",
      "b'This is yet another thing that makes modern parenting so very confounding.' Đây là một điều nữa làm các cha mẹ hiện đại thấy rất bối rối.\n",
      "b'We have no clue what portion our wisdom, if any, is of use to our kids.' Không biết liệu trí khôn của chúng ta, nếu có, sẽ có ích gì cho con cái không.\n",
      "b\"The world is changing so rapidly, it's impossible to say.\" Thế giới đang thay đổi chóng mặt, ta không thể nói chắc.\n",
      "b'This was true even when I was young.' Điều này đúng cả khi tôi còn rất trẻ.\n",
      "b'When I was a kid, high school specifically, I was told that I would be at sea in the new global economy if I did not know Japanese.' Khi là một đứa trẻ, chính xác là khi họccấp 3, tôi được bảo rằng sẽ mù tịt trong một nền kinh tế toàn cầu mới nếu tôi không biết tiếng Nhật.\n",
      "b\"And with all due respect to the Japanese, it did n't turn out that way.\" Và với niềm kính trọng người Nhật, sự thể không thành như vậy.\n",
      "b\"Now there is a certain kind of middle - class parent that is obsessed with teaching their kids Mandarin, and maybe they're onto something, but we can not know for sure.\" Bây giờ, có những cha mẹ trung lưu ám ảnh việc dạy trẻ tiếng Trung có lẽ họ đang bận tâm điều gì đó, nhưng chúng ta không chắc được.\n",
      "b'So, absent being able to anticipate the future, what we all do, as good parents, is try and prepare our kids for every possible kind of future, hoping that just one of our efforts will pay off.' Bởi vì không đoán được tương lai, lại là người lo lắng cho con cái, chúng ta chuẩn bị cho trẻ tất cả những điều có thể cho tương lai, chỉ mong một cố gắng nhỏ nào đó sẽ được đền đáp.\n",
      "b'We teach our kids chess, thinking maybe they will need analytical skills.' Chúng ta dạy trẻ chơi cờ, nghỉ rằng biết đâu chúng cần kỹ năng phân tích.\n",
      "b'We sign them up for team sports, thinking maybe they will need collaborative skills, you know, for when they go to Harvard Business School.' Ta cho trẻ chơi trò chơi đồng đội, nghĩ rằng chúng cần kỹ năng hợp tác, biết đâu sau chúng vào Harvard Business School.\n",
      "b'We try and teach them to be financially savvy and science - minded and eco-friendly and gluten - free, though now is probably a good time to tell you that I was not eco-friendly and gluten - free as a child.' Chúng ta dạy trẻ hiểu biết về tài chính dạy đầu óc khoa học và thân thiện với môi trường dạy để trẻ không mắc chứng cuồng ăn, nhân đây tôi cũng xin nói hồi nhỏ tôi không thân thiện với môi trường lại mắc chứng thích ăn.\n",
      "b'I ate jars of pureed macaroni and beef.' Tôi xơi bao nhiêu là mỳ ống và thịt bò.\n",
      "b'And you know what?' Và các bạn biết sao không?\n",
      "b\"I'm doing okay.\" Tôi vẫn ổn.\n",
      "b'I pay my taxes.' Tôi trả tiền thuế.\n",
      "b'I hold down a steady job.' Tôi có công việc ổn định.\n",
      "b'I was even invited to speak at TED.' Tôi thậm chí còn được mời đến nói chuyện tại TED.\n",
      "b\"But the presumption now is that what was good enough for me, or for my folks for that matter, is n't good enough anymore.\" Nhưng giả định hiện giờ là điều trước đây là ổn với tôi hay gia đình tôi, nay không còn đủ nữa.\n",
      "b\"So we all make a mad dash to that bookshelf, because we feel like if we are n't trying everything, it's as if we're doing nothing and we're defaulting on our obligations to our kids.\" Nên ta mới điên cuồng xông tới giá sách kia, vì ta cảm thấy nều không cố hết cách, thì cứ như chúng ta không làm gì cả. và chúng ta mặc định bổn phận mình với con cái.\n"
     ]
    }
   ],
   "source": [
    "for x,y in train_examples:\n",
    "    print(x.numpy(),y.numpy().decode('utf-8'))"
   ]
  },
  {
   "cell_type": "code",
   "execution_count": 21,
   "metadata": {},
   "outputs": [
    {
     "name": "stdout",
     "output_type": "stream",
     "text": [
      "b'C\\xc3\\xa2u chuy\\xe1\\xbb\\x87n b\\xe1\\xba\\xaft \\xc4\\x91\\xe1\\xba\\xa7u v\\xe1\\xbb\\x9bi bu\\xe1\\xbb\\x95i l\\xe1\\xbb\\x85 \\xc4\\x91\\xe1\\xba\\xbfm ng\\xc6\\xb0\\xe1\\xbb\\xa3c.'\n",
      "b'Ng\\xc3\\xa0y 14, th\\xc3\\xa1ng 8, n\\xc4\\x83m 1947, g\\xe1\\xba\\xa7n n\\xe1\\xbb\\xada \\xc4\\x91\\xc3\\xaam, \\xe1\\xbb\\x9f Bombay, c\\xc3\\xb3 m\\xe1\\xbb\\x99t ph\\xe1\\xbb\\xa5 n\\xe1\\xbb\\xaf s\\xe1\\xba\\xafp l\\xc3\\xa2m b\\xe1\\xbb\\x93n.'\n",
      "b'C\\xc3\\xb9ng l\\xc3\\xbac, tr\\xc3\\xaan kh\\xe1\\xba\\xafp \\xc4\\x91\\xe1\\xba\\xa5t \\xe1\\xba\\xa4n, ng\\xc6\\xb0\\xe1\\xbb\\x9di ta n\\xc3\\xadn th\\xe1\\xbb\\x9f ch\\xe1\\xbb\\x9d \\xc4\\x91\\xe1\\xbb\\xa3i tuy\\xc3\\xaan ng\\xc3\\xb4n \\xc4\\x91\\xe1\\xbb\\x99c l\\xe1\\xba\\xadp sau g\\xe1\\xba\\xa7n hai th\\xe1\\xba\\xadp k\\xe1\\xbb\\xb7 l\\xc3\\xa0 thu\\xe1\\xbb\\x99c \\xc4\\x91\\xe1\\xbb\\x8ba c\\xe1\\xbb\\xa7a Anh.'\n"
     ]
    }
   ],
   "source": [
    "bert_tokenizer_params = dict(lower_case=True)\n",
    "en_tokenizer = text.BertTokenizer('en_vocab.txt', **bert_tokenizer_params)\n",
    "for pt_examples, en_examples in train_examples.batch(3).take(1):\n",
    "    for ex in en_examples:\n",
    "        print(ex.numpy())\n"
   ]
  },
  {
   "cell_type": "code",
   "execution_count": 22,
   "metadata": {},
   "outputs": [],
   "source": [
    "# Tokenize the examples -> (batch, word, word-piece)\n",
    "token_batch = en_tokenizer.tokenize(en_examples)\n",
    "# Merge the word and word-piece axes -> (batch, tokens)\n",
    "token_batch = token_batch.merge_dims(-2,-1)"
   ]
  },
  {
   "cell_type": "code",
   "execution_count": 23,
   "metadata": {},
   "outputs": [
    {
     "data": {
      "text/plain": [
       "array([array([b'cau', b'chuyen', b'bat', b'\\xc4\\x91au', b'voi', b'buoi', b'le',\n",
       "              b'\\xc4\\x91em', b'nguoc', b'.'], dtype=object)                    ,\n",
       "       array([b'ngay', b'14', b',', b'thang', b'8', b',', b'nam', b'1947', b',',\n",
       "              b'gan', b'nua', b'\\xc4\\x91em', b',', b'o', b'bombay', b',', b'co',\n",
       "              b'mot', b'phu', b'nu', b'sap', b'lam', b'bon', b'.'], dtype=object),\n",
       "       array([b'cung', b'luc', b',', b'tren', b'khap', b'\\xc4\\x91at', b'an',\n",
       "              b',', b'nguoi', b'ta', b'nin', b'tho', b'cho', b'\\xc4\\x91oi',\n",
       "              b'tuyen', b'ngon', b'\\xc4\\x91oc', b'lap', b'sau', b'gan', b'hai',\n",
       "              b'thap', b'ky', b'la', b'thuoc', b'\\xc4\\x91ia', b'cua', b'anh',\n",
       "              b'.'], dtype=object)                                             ],\n",
       "      dtype=object)"
      ]
     },
     "execution_count": 23,
     "metadata": {},
     "output_type": "execute_result"
    }
   ],
   "source": [
    "arr = en_tokenizer.detokenize(token_batch).numpy()\n",
    "arr"
   ]
  }
 ],
 "metadata": {
  "interpreter": {
   "hash": "e54e8dae9f6fcf4339e0c8fda7f5d6588fbdd9fd2066dc042bfc22c43eb1f5c1"
  },
  "kernelspec": {
   "display_name": "Python 3.7.5 64-bit",
   "language": "python",
   "name": "python3"
  },
  "language_info": {
   "codemirror_mode": {
    "name": "ipython",
    "version": 3
   },
   "file_extension": ".py",
   "mimetype": "text/x-python",
   "name": "python",
   "nbconvert_exporter": "python",
   "pygments_lexer": "ipython3",
   "version": "3.7.5"
  },
  "orig_nbformat": 4
 },
 "nbformat": 4,
 "nbformat_minor": 2
}

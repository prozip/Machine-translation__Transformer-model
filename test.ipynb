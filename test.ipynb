{
 "cells": [
  {
   "cell_type": "code",
   "execution_count": 2,
   "metadata": {},
   "outputs": [],
   "source": [
    "import tensorflow as tf\n",
    "from tensorflow_text.tools.wordpiece_vocab import bert_vocab_from_dataset as bert_vocab"
   ]
  },
  {
   "cell_type": "code",
   "execution_count": 4,
   "metadata": {},
   "outputs": [],
   "source": [
    "file_name = 'en_to_vi.txt'\n",
    "dataset = tf.data.TextLineDataset(file_name)\n",
    "\n",
    "def do_map(ds):\n",
    "  splited = tf.strings.split(ds,sep='\\t')\n",
    "  inp = tf.squeeze(tf.slice(splited, [0], [1]))\n",
    "  targ = tf.squeeze(tf.slice(splited, [1], [1]))\n",
    "  return (inp, targ)\n",
    "\n",
    "examples = dataset.map(lambda ds:do_map(ds))"
   ]
  },
  {
   "cell_type": "code",
   "execution_count": 6,
   "metadata": {},
   "outputs": [],
   "source": [
    "train_examples = examples\n",
    "train_en = train_examples.map(lambda pt, en: en)\n",
    "train_pt = train_examples.map(lambda pt, en: pt)"
   ]
  },
  {
   "cell_type": "code",
   "execution_count": 9,
   "metadata": {},
   "outputs": [
    {
     "name": "stdout",
     "output_type": "stream",
     "text": [
      "b'C\\xc3\\xa2u chuy\\xe1\\xbb\\x87n b\\xe1\\xba\\xaft \\xc4\\x91\\xe1\\xba\\xa7u v\\xe1\\xbb\\x9bi bu\\xe1\\xbb\\x95i l\\xe1\\xbb\\x85 \\xc4\\x91\\xe1\\xba\\xbfm ng\\xc6\\xb0\\xe1\\xbb\\xa3c.'\n",
      "b'Ng\\xc3\\xa0y 14, th\\xc3\\xa1ng 8, n\\xc4\\x83m 1947, g\\xe1\\xba\\xa7n n\\xe1\\xbb\\xada \\xc4\\x91\\xc3\\xaam, \\xe1\\xbb\\x9f Bombay, c\\xc3\\xb3 m\\xe1\\xbb\\x99t ph\\xe1\\xbb\\xa5 n\\xe1\\xbb\\xaf s\\xe1\\xba\\xafp l\\xc3\\xa2m b\\xe1\\xbb\\x93n.'\n"
     ]
    }
   ],
   "source": [
    "for x in train_en.take(2):\n",
    "    print(x.numpy())"
   ]
  },
  {
   "cell_type": "code",
   "execution_count": 8,
   "metadata": {},
   "outputs": [
    {
     "name": "stdout",
     "output_type": "stream",
     "text": [
      "Câu chuyện bắt đầu với buổi lễ đếm ngược.\n",
      "Ngày 14, tháng 8, năm 1947, gần nửa đêm, ở Bombay, có một phụ nữ sắp lâm bồn.\n"
     ]
    }
   ],
   "source": [
    "for x in train_en.take(2):\n",
    "    print(x.numpy().decode('utf-8'))"
   ]
  },
  {
   "cell_type": "code",
   "execution_count": 10,
   "metadata": {},
   "outputs": [],
   "source": [
    "from tensorflow_text.tools.wordpiece_vocab import bert_vocab_from_dataset as bert_vocab\n",
    "bert_tokenizer_params=dict(lower_case=False)\n",
    "reserved_tokens=[\"[PAD]\", \"[UNK]\", \"[START]\", \"[END]\"]\n",
    "\n",
    "bert_vocab_args = dict(\n",
    "    # The target vocabulary size\n",
    "    vocab_size = 8000,\n",
    "    # Reserved tokens that must be included in the vocabulary\n",
    "    reserved_tokens=reserved_tokens,\n",
    "    # Arguments for `text.BertTokenizer`\n",
    "    bert_tokenizer_params=bert_tokenizer_params,\n",
    "    # Arguments for `wordpiece_vocab.wordpiece_tokenizer_learner_lib.learn`\n",
    "    learn_params={},\n",
    "    # show_progress = True\n",
    ")"
   ]
  },
  {
   "cell_type": "code",
   "execution_count": 11,
   "metadata": {},
   "outputs": [
    {
     "name": "stdout",
     "output_type": "stream",
     "text": [
      "Wall time: 1.86 s\n"
     ]
    }
   ],
   "source": [
    "%%time\n",
    "en_vocab = bert_vocab.bert_vocab_from_dataset(\n",
    "    train_en.take(1000).batch(1000).prefetch(2),\n",
    "    **bert_vocab_args\n",
    ")"
   ]
  },
  {
   "cell_type": "code",
   "execution_count": 13,
   "metadata": {},
   "outputs": [
    {
     "ename": "TypeError",
     "evalue": "bert_vocab_from_dataset() got an unexpected keyword argument 'unknown_token'",
     "output_type": "error",
     "traceback": [
      "\u001b[1;31m---------------------------------------------------------------------------\u001b[0m",
      "\u001b[1;31mTypeError\u001b[0m                                 Traceback (most recent call last)",
      "\u001b[1;32m<timed exec>\u001b[0m in \u001b[0;36m<module>\u001b[1;34m\u001b[0m\n",
      "\u001b[1;31mTypeError\u001b[0m: bert_vocab_from_dataset() got an unexpected keyword argument 'unknown_token'"
     ]
    }
   ],
   "source": [
    "%%time\n",
    "en_vocab = bert_vocab.bert_vocab_from_dataset(\n",
    "    dataset.batch(1000).prefetch(2),\n",
    "    **bert_vocab_args\n",
    ")"
   ]
  },
  {
   "cell_type": "code",
   "execution_count": 12,
   "metadata": {},
   "outputs": [
    {
     "name": "stdout",
     "output_type": "stream",
     "text": [
      "['[PAD]', '[UNK]', '[START]', '[END]', '!', '\"', '$', '%', \"'\", '(', ')', ',', '-', '.', '/', '0', '1', '2', '3', '4', '5', '6', '7', '8', '9', ':', ';', '?', 'A', 'B', 'C', 'D', 'E', 'F', 'G', 'H', 'I', 'J', 'K', 'L', 'M', 'N', 'O', 'P', 'Q', 'R', 'S', 'T', 'U', 'V', 'W', 'X', 'Y', 'Z', '[', '\\\\', ']', '`', 'a', 'b', 'c', 'd', 'e', 'f', 'g', 'h', 'i', 'j', 'k', 'l', 'm', 'n', 'o', 'p', 'q', 'r', 's', 't', 'u', 'v', 'w', 'x', 'y', 'z', 'Á', 'Â', 'Í', 'Ô', 'Ý', 'à', 'á', 'â', 'ã', 'è', 'é', 'ê', 'ì', 'í', 'ò', 'ó', 'ô', 'õ', 'ù', 'ú', 'ý', 'ă', 'Đ', 'đ', 'ĩ', 'ũ', 'ơ', 'ư', 'ạ', 'ả', 'Ấ', 'ấ', 'ầ', 'ẩ', 'ẫ', 'ậ', 'ắ', 'ằ', 'ẳ', 'ẵ', 'ặ', 'ẹ', 'ẻ', 'ẽ', 'ế', 'ề', 'ể', 'ễ', 'ệ', 'ỉ', 'ị', 'ọ', 'ỏ', 'ố', 'Ồ', 'ồ', 'ổ', 'ỗ', 'ộ', 'ớ', 'ờ', 'Ở', 'ở', 'ỡ', 'ợ', 'ụ', 'ủ', 'ứ', 'Ừ', 'ừ', 'ử', 'ữ', 'ự', 'ỳ', 'ỵ', 'ỷ', 'ỹ', 'là', 'một', 'có', 'và', 'ta', 'của', 'tôi', 'không', 'chúng', 'những', 'đó', 'sự', '##n', 'trong', 'được', '##ng', 'người', 'cho', 'bạn', 'đã', 'ra', 'thể', 'nó', 'về', 'này', 'với', 'điều', 'thế', '##i', 'mà', 'làm', 'như', '##m', 'các', 'để', '##c', 'nói', 'sẽ', 'vào', 'phải', '##a', 'chính', 'đang', '##o', 'khi', 'chỉ', '##t', 'rằng', 'lại', 'việc', 'hơn', 'thực', 'cả', 'đề', 'Và', 'vì', 'nhiều', 'đến', 'Tôi', 'công', 'rất', 'cũng', 'gì', 'năm', 'thấy', '##y', 'trẻ', 'lực', 'con', 'trên', 'từ', 'vấn', 'đầu', 'quyền', '##p', 'nào', 'đây', 'khác', 'số', 'cảm', 'thì', 'Chúng', 'cách', 'học', 'họ', 'lớn', 'nhưng', 'tế', 'bởi', 'cái', 'mình', 'tin', 'cuộc', 'vậy', '##u', 'bản', 'nếu', 'nghĩ', '##g', 'gia', 'thời', 'thứ', 'nhà', '##e', 'bị', 'tiền', 'đi', 'kinh', 'Nhưng', 'cần', 'tự', 'giờ', 'hay', 'thành', 'biết', 'giới', 'quan', 'định', 'thật', 'hàng', 'tại', 'nên', 'mọi', 'nhìn', 'thông', 'tới', 'nhất', 'nhận', 'nước', 'qua', 'sử', 'tất', 'động', '##nh', 'Internet', 'muốn', 'ngày', 'nhau', 'đều', '##ẻ', 'Mỹ', 'mẹ', 'sách', 'thay', 'theo', 'hiện', 'phần', 'sống', 'trợ', 'tài', 'chiến', 'giá', 'hợp', 'nay', 'ngủ', 'quốc', 'trở', 'Đó', '##0', 'hai', 'mới', 'nhân', 'năng', 'trung', 'đổi', 'do', 'dụng', 'hoặc', 'hệ', 'lời', '##ch', 'Nó', 'bắt', 'chuyện', 'cùng', 'hiểu', 'lợi', 'tham', 'vẫn', 'đồng', '##uy', '##ây', 'ai', 'bộ', 'câu', 'phát', 'thống', 'Điều', '##h', '##ân', '##ật', '##ối', 'còn', 'cơ', 'gian', 'liệu', 'lúc', 'thức', 'trước', 'trầm', 'xảy', 'đứa', 'chi', 'dịch', 'lần', 'nơi', 'vị', '##ên', 'kỷ', 'mỗi', 'toàn', 'trọng', 'tưởng', 'tạo', '##ái', '##í', '##ần', 'cha', 'cứ', 'hỏi', 'lý', 'nghĩa', 'phủ', 'sau', 'tốt', '##ăn', '##ắng', 'Trung', 'dự', 'giải', 'tiếng', '##ia', '##ung', '##ãy', 'Quốc', 'doanh', 'kết', 'lập', 'sao', 'sợ', 'viện', '##iểu', '##àn', '##ờ', 'Nếu', 'Vì', 'Vậy', 'chức', 'cứu', 'dữ', 'giảm', 'lên', 'mô', 'rồi', 'ông', 'đâu', 'đối', '##ang', '##s', '##ản', '##ệ', '##ện', 'bằng', 'luật', 'tiêu', 'tăng', 'tập', '##ấu', '##ấy', 'Có', 'bất', 'lượng', 'mạnh', 'nhỏ', 'tranh', '##ai', '##ay', '##iện', '##on', '##ách', '##ận', '##ộ', '##ụ', '##ữ', 'Những', 'dạy', 'gọi', 'hội', 'kỳ', 'nhũng', 'nữa', 'phân', 'quy', 'sản', 'thường', 'trường', 'tính', 'tổ', 'Đây', 'đô', '##l', '##ổ', '##ục', 'bỏ', 'dẫn', 'hình', 'hướng', 'la', 'liên', 'lầm', 'ngay', 'phí', 'quyết', 'quả', 'rõ', 'thiết', 'tiếp', 'truyền', 'trị', 'vực', 'đáng', 'địa', '##an', '##hi', '##hật', '##uyên', '##uận', '##uổi', '##à', '##âu', '##úc', '##ấp', '##ể', 'chuyển', 'giống', 'mạng', 'mức', 'ngoài', 'nhiên', 'nửa', 'quá', 'sáng', 'thuộc', 'thân', 'tác', 'từng', 'vượt', '##1', '##ô', '##ạc', '##ất', '##ập', '##ặp', '##ở', 'Một', 'chất', 'cảnh', 'giao', 'hoạt', 'khả', 'loại', 'sinh', 'tiên', 'tìm', 'tình', 'tương', 'xem', 'xuất', 'xác', 'điểm', 'đưa', 'đại', '##hắn', '##iến', '##oại', '##ài', '##á', '##ê', '##ấm', '##ề', '##ức', '##ử', '##ỷ', 'Bạn', 'Bộ', 'chắc', 'dù', 'hạnh', 'luôn', 'lòng', 'phúc', 'phẩm', 'phụ', 'sai', 'sức', 'trình', 'tư', 'tượng', 'tội', 'vài', 'yếu', 'đánh', 'đơn', 'đặt', '##anh', '##án', '##ãi', '##óng', '##ăng', '##ơi', '##ạo', '##ẽ', '##ết', '##ển', 'Châu', 'anh', 'biệt', 'bình', 'chưa', 'cầu', 'cố', 'diễn', 'dụ', 'giấc', 'hành', 'lược', 'lịch', 'mang', 'nghiên', 'nền', 'nổi', 'rộng', 'triển', 'trò', 'xây', 'đình', 'đúng', 'độ', '##5', '##d', '##hư', '##àng', '##áo', '##ôi', '##ưới', '##ạ', '##ại', '##ấn', '##ến', '##ều', '##ốn', '##ỗi', '##ừng', 'bé', 'chứ', 'chứng', 'dựng', 'gen', 'hoàn', 'khiến', 'khó', 'lấy', 'mục', 'nghiệp', 'phá', 'thu', 'trả', 'tên', 'tỉ', 'đêm', 'đứng', '##hú', '##iệu', '##ánh', '##ả', '##ầu', '##ọc', 'Anh', 'Saleem', 'báo', 'bên', 'chẳng', 'chủ', 'cạnh', 'giữa', 'in', 'khoảng', 'ngân', 'so', 'thôi', 'tâm', 'tối', 'đồ', 'đủ', '##hiệm', '##hích', '##hờ', '##inh', '##om', '##ám', '##êu', '##ông', '##ười', '##ường', '##ầm', '##ếu', '##ỏi', '##ồ', '##ời', 'Cười', 'Họ', 'Không', 'chuỗi', 'càng', 'cô', 'cập', 'giả', 'giản', 'giữ', 'gây', 'gần', 'khoa', 'lạm', 'minh', 'mong', 'mất', 'mặt', 'phép', 'phòng', 'sát', 'thuyết', 'thương', 'toà', 'viết', 'ví', 'yêu', 'đất', 'ương', '##00', '##hắc', '##hố', '##ua', '##uyền', '##uống', '##âng', '##ăm', '##ơ', '##ạt', '##ậu', '##ắp', '##ế', '##ễ', '##ỉ', '##ốc', '##ồi', '##ỗ', '##ội', '##ự', '30', 'Khi', 'ba', 'bao', 'bàn', 'bệnh', 'bố', 'cao', 'chí', 'chống', 'cuối', 'cộng', 'cực', 'dậy', 'dựa', 'hiệu', 'hoảng', 'hạn', 'hết', 'kế', 'máy', 'mềm', 'nhanh', 'niên', 'niệm', 'thập', 'viên', 'đoán', 'đường', 'đời', 'Ấn', 'ấy', '##er', '##hương', '##hổ', '##in', '##k', '##oàn', '##oá', '##oạn', '##uyệt', '##uý', '##uồn', '##ành', '##ét', '##ính', '##úp', '##ạch', '##ạng', '##ậm', '##ặc', '##ếm', '##ọi', '##ố', '##ớp', 'Thế', 'Thực', 'Trong', 'Tài', 'biến', 'bài', 'bảo', 'bọn', 'chịu', 'cấp', 'cấu', 'dành', 'hiểm', 'hãi', 'hưởng', 'khu', 'khá', 'khủng', 'mắc', 'nghiêm', 'nghệ', 'ngược', 'nhớ', 'phi', 'phạm', 'quân', 'sắc', 'tháng', 'thêm', 'thị', 'vọng', 'xã', 'án', 'ít', 'đa', 'đau', 'đấu', 'đặc', 'ảnh', '##!', '##\"', '##$', '##%', \"##'\", '##(', '##)', '##,', '##-', '##.', '##/', '##2', '##3', '##4', '##6', '##7', '##8', '##9', '##:', '##;', '##?', '##A', '##B', '##C', '##D', '##E', '##F', '##G', '##H', '##I', '##J', '##K', '##L', '##M', '##N', '##O', '##P', '##Q', '##R', '##S', '##T', '##U', '##V', '##W', '##X', '##Y', '##Z', '##[', '##\\\\', '##]', '##`', '##b', '##f', '##j', '##q', '##r', '##v', '##w', '##x', '##z', '##Á', '##Â', '##Í', '##Ô', '##Ý', '##â', '##ã', '##è', '##é', '##ì', '##ò', '##ó', '##õ', '##ù', '##ú', '##ý', '##ă', '##Đ', '##đ', '##ĩ', '##ũ', '##ư', '##Ấ', '##ấ', '##ầ', '##ẩ', '##ẫ', '##ậ', '##ắ', '##ằ', '##ẳ', '##ẵ', '##ặ', '##ẹ', '##ị', '##ọ', '##ỏ', '##Ồ', '##ớ', '##Ở', '##ỡ', '##ợ', '##ủ', '##ứ', '##Ừ', '##ừ', '##ỳ', '##ỵ', '##ỹ']\n"
     ]
    }
   ],
   "source": [
    "print(en_vocab)\n"
   ]
  }
 ],
 "metadata": {
  "interpreter": {
   "hash": "e54e8dae9f6fcf4339e0c8fda7f5d6588fbdd9fd2066dc042bfc22c43eb1f5c1"
  },
  "kernelspec": {
   "display_name": "Python 3.7.5 64-bit",
   "language": "python",
   "name": "python3"
  },
  "language_info": {
   "codemirror_mode": {
    "name": "ipython",
    "version": 3
   },
   "file_extension": ".py",
   "mimetype": "text/x-python",
   "name": "python",
   "nbconvert_exporter": "python",
   "pygments_lexer": "ipython3",
   "version": "3.7.5"
  },
  "orig_nbformat": 4
 },
 "nbformat": 4,
 "nbformat_minor": 2
}
